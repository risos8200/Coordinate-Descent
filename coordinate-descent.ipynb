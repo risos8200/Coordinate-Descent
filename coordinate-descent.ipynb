{
 "cells": [
  {
   "cell_type": "code",
   "execution_count": 1,
   "id": "7c688ca7-d9af-4e26-b9ab-569c64a1caa1",
   "metadata": {},
   "outputs": [],
   "source": [
    "from sklearn.datasets import load_wine\n",
    "from sklearn.model_selection import train_test_split\n",
    "from sklearn.linear_model import LogisticRegression\n",
    "from sklearn.metrics import log_loss\n",
    "from sklearn.metrics import accuracy_score\n",
    "import pandas as pd\n",
    "import numpy as np\n",
    "import math\n",
    "import random\n",
    "import matplotlib.pyplot as plt"
   ]
  },
  {
   "cell_type": "code",
   "execution_count": 2,
   "id": "0151901e-6178-4555-8368-af4be6fc653e",
   "metadata": {},
   "outputs": [],
   "source": [
    "data = np.loadtxt('./wine.data', delimiter=',')"
   ]
  },
  {
   "cell_type": "code",
   "execution_count": 3,
   "id": "73fce673-e893-404a-b1af-90f609fc30ab",
   "metadata": {},
   "outputs": [],
   "source": [
    "X, Y = data[:, 1:], data[:,0]\n",
    "ids=[]\n",
    "for i in range(len(Y)):\n",
    "    if(Y[i]!=3):\n",
    "        ids.append(i)\n",
    "x=X[ids]\n",
    "y=Y[ids]\n",
    "mn=x.mean(axis=0)\n",
    "ma=x.max(axis=0)\n",
    "mi=x.min(axis=0)\n",
    "x = (x - mn)/(ma-mi)\n",
    "x = np.hstack((x,np.ones(len(x)).reshape(len(x),1)))\n",
    "y = np.array(list(map(lambda x: 0 if x == 1 else 1, y))) "
   ]
  },
  {
   "cell_type": "code",
   "execution_count": 4,
   "id": "2609be30-f94c-4607-9b3d-45f043a93938",
   "metadata": {},
   "outputs": [
    {
     "name": "stdout",
     "output_type": "stream",
     "text": [
      "0.000038\n"
     ]
    }
   ],
   "source": [
    "logisticRegr = LogisticRegression(solver='liblinear', C=1005000)\n",
    "logisticRegr.fit(x,y)\n",
    "loss = log_loss(y,logisticRegr.predict_proba(x))\n",
    "print(\"{:<8f}\".format(loss))"
   ]
  },
  {
   "cell_type": "code",
   "execution_count": 5,
   "id": "b3e7564a-c497-45d4-85aa-2e774931d0eb",
   "metadata": {},
   "outputs": [],
   "source": [
    "def sigmoid(m):\n",
    "    return 1 / (1 + np.exp(-m))\n",
    "def dot_product(a,b):\n",
    "    return(np.dot(a,b))"
   ]
  },
  {
   "cell_type": "code",
   "execution_count": 6,
   "id": "9127001c-26d7-451e-aeb9-df3dafea3a7b",
   "metadata": {},
   "outputs": [],
   "source": [
    "def logloss(y, y_pred):\n",
    "    loss = -(1/len(y))*np.sum(y*np.log(y_pred) + (1 - y)*np.log(1 - y_pred))\n",
    "    return loss"
   ]
  },
  {
   "cell_type": "code",
   "execution_count": 7,
   "id": "9a770ea5-27ae-4cae-b735-da08a50dca04",
   "metadata": {},
   "outputs": [],
   "source": [
    "def gradient(x,y,y_pred):\n",
    "    gt=list(np.dot((y_pred - y),x)[0])\n",
    "    return gt"
   ]
  },
  {
   "cell_type": "code",
   "execution_count": 8,
   "id": "f1d2064e-a209-40b9-9310-43998e34d3e8",
   "metadata": {},
   "outputs": [
    {
     "name": "stdout",
     "output_type": "stream",
     "text": [
      "Loss L = 0.00046983905239203656\n"
     ]
    }
   ],
   "source": [
    "wt = np.zeros(14).reshape(14,1)\n",
    "n = 0.01\n",
    "l = []\n",
    "for epoch1 in range(1005000):\n",
    "    y_pred = sigmoid(dot_product(wt.T,x.T))\n",
    "    grad = gradient(x, y, y_pred)\n",
    "    large = np.argmax(np.abs(grad))\n",
    "    l.append(logloss(y, y_pred))  \n",
    "    wt[large] = wt[large] - n*grad[large]\n",
    "print(\"Loss L = {0}\".format(l[-1]))"
   ]
  },
  {
   "cell_type": "code",
   "execution_count": 9,
   "id": "b4fb10ab-8a4b-4a2d-8b6c-c6e9b62feea5",
   "metadata": {},
   "outputs": [
    {
     "name": "stdout",
     "output_type": "stream",
     "text": [
      "Loss L = 0.0009352838592129538\n"
     ]
    }
   ],
   "source": [
    "wtr = np.zeros(14).reshape(14,1)\n",
    "n = 0.01\n",
    "lran = []\n",
    "for epoch2 in range(1005000):\n",
    "    y_predr = sigmoid(dot_product(wtr.T,x.T))\n",
    "    gradr = gradient(x, y, y_predr)\n",
    "    rint=random.randint(0,13)\n",
    "    lran.append(logloss(y, y_predr))  \n",
    "    wtr[rint] = wtr[rint] - n*gradr[rint]\n",
    "print(\"Loss L = {0}\".format(lran[-1]))"
   ]
  },
  {
   "cell_type": "code",
   "execution_count": 10,
   "id": "99199efd-20ba-4030-ab2f-12701775d609",
   "metadata": {},
   "outputs": [
    {
     "data": {
      "image/png": "[encoded data removed]",
      "text/plain": [
       "<Figure size 432x288 with 1 Axes>"
      ]
     },
     "metadata": {
      "needs_background": "light"
     },
     "output_type": "display_data"
    }
   ],
   "source": [
    "x=[i for i in range(0,1005000)]\n",
    "log_lo=[loss for i in range(0,1005000)]\n",
    "plt.plot(x,log_lo, label = 'Log Loss of Logistic Regression Model')\n",
    "plt.plot(x, lran, label = 'Log Loss of Randomized Model')\n",
    "plt.plot(x, l, label = 'Log Loss of My Model')\n",
    "plt.ylim((-0.01,0.05))\n",
    "plt.xlabel('Epoch')\n",
    "plt.ylabel('Loss')\n",
    "plt.legend()\n",
    "plt.savefig('loss.png')\n",
    "plt.show()"
   ]
  },
  {
   "cell_type": "code",
   "execution_count": null,
   "id": "96a4af14-fc86-466e-96a6-e077f177fbd4",
   "metadata": {},
   "outputs": [],
   "source": []
  }
 ],
 "metadata": {
  "kernelspec": {
   "display_name": "Python 3 (ipykernel)",
   "language": "python",
   "name": "python3"
  },
  "language_info": {
   "codemirror_mode": {
    "name": "ipython",
    "version": 3
   },
   "file_extension": ".py",
   "mimetype": "text/x-python",
   "name": "python",
   "nbconvert_exporter": "python",
   "pygments_lexer": "ipython3",
   "version": "3.9.7"
  }
 },
 "nbformat": 4,
 "nbformat_minor": 5
}
